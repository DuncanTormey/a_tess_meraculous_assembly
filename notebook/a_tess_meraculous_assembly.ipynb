{
 "cells": [
  {
   "cell_type": "markdown",
   "metadata": {},
   "source": [
    "# _A. tesselata_ Primary Assembly"
   ]
  },
  {
   "cell_type": "code",
   "execution_count": 1,
   "metadata": {
    "ExecuteTime": {
     "end_time": "2018-03-19T18:07:09.143507Z",
     "start_time": "2018-03-19T18:06:59.901095Z"
    }
   },
   "outputs": [
    {
     "data": {
      "text/html": [
       "<style>.container { width:80% !important; }</style>"
      ],
      "text/plain": [
       "<IPython.core.display.HTML object>"
      ]
     },
     "metadata": {},
     "output_type": "display_data"
    }
   ],
   "source": [
    "import pandas as pd\n",
    "import sys\n",
    "sys.path = ['../../../python_tools/'] + sys.path\n",
    "from fasta_class import fasta_classes as fa\n",
    "pd.set_option('display.max_colwidth', -1)\n",
    "from IPython.core.display import display, HTML\n",
    "display(HTML(\"<style>.container { width:80% !important; }</style>\"))"
   ]
  },
  {
   "cell_type": "markdown",
   "metadata": {},
   "source": [
    "## Installing MERACULOUS"
   ]
  },
  {
   "cell_type": "code",
   "execution_count": 2,
   "metadata": {
    "ExecuteTime": {
     "end_time": "2018-03-19T18:07:09.173804Z",
     "start_time": "2018-03-19T18:07:09.146471Z"
    },
    "collapsed": true
   },
   "outputs": [],
   "source": [
    "%%bash\n",
    "#source activate meraculous_env\n",
    "#conda install meraculous"
   ]
  },
  {
   "cell_type": "markdown",
   "metadata": {},
   "source": [
    "## Data"
   ]
  },
  {
   "cell_type": "code",
   "execution_count": 3,
   "metadata": {
    "ExecuteTime": {
     "end_time": "2018-03-19T18:07:09.450319Z",
     "start_time": "2018-03-19T18:07:09.176783Z"
    }
   },
   "outputs": [
    {
     "data": {
      "text/html": [
       "<div>\n",
       "<style scoped>\n",
       "    .dataframe tbody tr th:only-of-type {\n",
       "        vertical-align: middle;\n",
       "    }\n",
       "\n",
       "    .dataframe tbody tr th {\n",
       "        vertical-align: top;\n",
       "    }\n",
       "\n",
       "    .dataframe thead th {\n",
       "        text-align: right;\n",
       "    }\n",
       "</style>\n",
       "<table border=\"1\" class=\"dataframe\">\n",
       "  <thead>\n",
       "    <tr style=\"text-align: right;\">\n",
       "      <th></th>\n",
       "      <th>Output</th>\n",
       "      <th>Order</th>\n",
       "      <th>OrderType</th>\n",
       "      <th>Lane</th>\n",
       "      <th>SampleName</th>\n",
       "      <th>LibraryID</th>\n",
       "      <th>IndexSequence1</th>\n",
       "      <th>IndexSequence2</th>\n",
       "      <th>Read</th>\n",
       "      <th>Reference</th>\n",
       "      <th>Lab</th>\n",
       "      <th>TotalReads</th>\n",
       "      <th>AlignPercent</th>\n",
       "      <th>Type</th>\n",
       "      <th>ReadLength</th>\n",
       "      <th>FlowcellPath</th>\n",
       "      <th>FilePath</th>\n",
       "    </tr>\n",
       "  </thead>\n",
       "  <tbody>\n",
       "    <tr>\n",
       "      <th>0</th>\n",
       "      <td>s_1_1_ACAGTG.fastq.gz</td>\n",
       "      <td>MOLNG-2243</td>\n",
       "      <td>DNA-Seq (1ug)</td>\n",
       "      <td>1</td>\n",
       "      <td>A_tesselata_16537</td>\n",
       "      <td>L32313</td>\n",
       "      <td>ACAGTG</td>\n",
       "      <td>NaN</td>\n",
       "      <td>1</td>\n",
       "      <td>None</td>\n",
       "      <td>Baumann Lab</td>\n",
       "      <td>122067869</td>\n",
       "      <td>0</td>\n",
       "      <td>Paired Reads</td>\n",
       "      <td>251</td>\n",
       "      <td>/n/analysis/Baumann/rrs/MOLNG-2243/H5JWTBCX2/</td>\n",
       "      <td>/n/analysis/Baumann/rrs/MOLNG-2243/H5JWTBCX2/s_1_1_ACAGTG.fastq.gz</td>\n",
       "    </tr>\n",
       "    <tr>\n",
       "      <th>1</th>\n",
       "      <td>s_1_2_ACAGTG.fastq.gz</td>\n",
       "      <td>MOLNG-2243</td>\n",
       "      <td>DNA-Seq (1ug)</td>\n",
       "      <td>1</td>\n",
       "      <td>A_tesselata_16537</td>\n",
       "      <td>L32313</td>\n",
       "      <td>ACAGTG</td>\n",
       "      <td>NaN</td>\n",
       "      <td>2</td>\n",
       "      <td>None</td>\n",
       "      <td>Baumann Lab</td>\n",
       "      <td>122067869</td>\n",
       "      <td>0</td>\n",
       "      <td>Paired Reads</td>\n",
       "      <td>251</td>\n",
       "      <td>/n/analysis/Baumann/rrs/MOLNG-2243/H5JWTBCX2/</td>\n",
       "      <td>/n/analysis/Baumann/rrs/MOLNG-2243/H5JWTBCX2/s_1_2_ACAGTG.fastq.gz</td>\n",
       "    </tr>\n",
       "    <tr>\n",
       "      <th>2</th>\n",
       "      <td>s_2_1_ACAGTG.fastq.gz</td>\n",
       "      <td>MOLNG-2243</td>\n",
       "      <td>DNA-Seq (1ug)</td>\n",
       "      <td>2</td>\n",
       "      <td>A_tesselata_16537</td>\n",
       "      <td>L32313</td>\n",
       "      <td>ACAGTG</td>\n",
       "      <td>NaN</td>\n",
       "      <td>1</td>\n",
       "      <td>None</td>\n",
       "      <td>Baumann Lab</td>\n",
       "      <td>125690450</td>\n",
       "      <td>0</td>\n",
       "      <td>Paired Reads</td>\n",
       "      <td>251</td>\n",
       "      <td>/n/analysis/Baumann/rrs/MOLNG-2243/H5JWTBCX2/</td>\n",
       "      <td>/n/analysis/Baumann/rrs/MOLNG-2243/H5JWTBCX2/s_2_1_ACAGTG.fastq.gz</td>\n",
       "    </tr>\n",
       "    <tr>\n",
       "      <th>3</th>\n",
       "      <td>s_2_2_ACAGTG.fastq.gz</td>\n",
       "      <td>MOLNG-2243</td>\n",
       "      <td>DNA-Seq (1ug)</td>\n",
       "      <td>2</td>\n",
       "      <td>A_tesselata_16537</td>\n",
       "      <td>L32313</td>\n",
       "      <td>ACAGTG</td>\n",
       "      <td>NaN</td>\n",
       "      <td>2</td>\n",
       "      <td>None</td>\n",
       "      <td>Baumann Lab</td>\n",
       "      <td>125690450</td>\n",
       "      <td>0</td>\n",
       "      <td>Paired Reads</td>\n",
       "      <td>251</td>\n",
       "      <td>/n/analysis/Baumann/rrs/MOLNG-2243/H5JWTBCX2/</td>\n",
       "      <td>/n/analysis/Baumann/rrs/MOLNG-2243/H5JWTBCX2/s_2_2_ACAGTG.fastq.gz</td>\n",
       "    </tr>\n",
       "  </tbody>\n",
       "</table>\n",
       "</div>"
      ],
      "text/plain": [
       "                  Output       Order      OrderType  Lane         SampleName  \\\n",
       "0  s_1_1_ACAGTG.fastq.gz  MOLNG-2243  DNA-Seq (1ug)  1     A_tesselata_16537   \n",
       "1  s_1_2_ACAGTG.fastq.gz  MOLNG-2243  DNA-Seq (1ug)  1     A_tesselata_16537   \n",
       "2  s_2_1_ACAGTG.fastq.gz  MOLNG-2243  DNA-Seq (1ug)  2     A_tesselata_16537   \n",
       "3  s_2_2_ACAGTG.fastq.gz  MOLNG-2243  DNA-Seq (1ug)  2     A_tesselata_16537   \n",
       "\n",
       "  LibraryID IndexSequence1  IndexSequence2  Read Reference          Lab  \\\n",
       "0  L32313    ACAGTG        NaN              1     None      Baumann Lab   \n",
       "1  L32313    ACAGTG        NaN              2     None      Baumann Lab   \n",
       "2  L32313    ACAGTG        NaN              1     None      Baumann Lab   \n",
       "3  L32313    ACAGTG        NaN              2     None      Baumann Lab   \n",
       "\n",
       "   TotalReads  AlignPercent          Type  ReadLength  \\\n",
       "0  122067869   0             Paired Reads  251          \n",
       "1  122067869   0             Paired Reads  251          \n",
       "2  125690450   0             Paired Reads  251          \n",
       "3  125690450   0             Paired Reads  251          \n",
       "\n",
       "                                    FlowcellPath  \\\n",
       "0  /n/analysis/Baumann/rrs/MOLNG-2243/H5JWTBCX2/   \n",
       "1  /n/analysis/Baumann/rrs/MOLNG-2243/H5JWTBCX2/   \n",
       "2  /n/analysis/Baumann/rrs/MOLNG-2243/H5JWTBCX2/   \n",
       "3  /n/analysis/Baumann/rrs/MOLNG-2243/H5JWTBCX2/   \n",
       "\n",
       "                                                             FilePath  \n",
       "0  /n/analysis/Baumann/rrs/MOLNG-2243/H5JWTBCX2/s_1_1_ACAGTG.fastq.gz  \n",
       "1  /n/analysis/Baumann/rrs/MOLNG-2243/H5JWTBCX2/s_1_2_ACAGTG.fastq.gz  \n",
       "2  /n/analysis/Baumann/rrs/MOLNG-2243/H5JWTBCX2/s_2_1_ACAGTG.fastq.gz  \n",
       "3  /n/analysis/Baumann/rrs/MOLNG-2243/H5JWTBCX2/s_2_2_ACAGTG.fastq.gz  "
      ]
     },
     "execution_count": 3,
     "metadata": {},
     "output_type": "execute_result"
    }
   ],
   "source": [
    "molng2243 = pd.read_csv('/n/analysis/Baumann/rrs/MOLNG-2243/H5JWTBCX2/Sample_Report.csv')\n",
    "molng2243['FlowcellPath'] = '/n/analysis/Baumann/rrs/MOLNG-2243/H5JWTBCX2/'\n",
    "molng2243['FilePath'] = molng2243.apply(lambda row: row['FlowcellPath'] + row['Output'], axis=1)\n",
    "molng2243"
   ]
  },
  {
   "cell_type": "markdown",
   "metadata": {},
   "source": [
    "## Trim Reads"
   ]
  },
  {
   "cell_type": "code",
   "execution_count": 4,
   "metadata": {
    "ExecuteTime": {
     "end_time": "2018-03-19T18:07:09.467546Z",
     "start_time": "2018-03-19T18:07:09.452622Z"
    },
    "collapsed": true
   },
   "outputs": [],
   "source": [
    "%%bash\n",
    "cd ../bin\n",
    "#wget http://www.usadellab.org/cms/uploads/supplementary/Trimmomatic/Trimmomatic-0.36.zip\n",
    "#unzip Trimmomatic-0.36.zip\n"
   ]
  },
  {
   "cell_type": "code",
   "execution_count": 5,
   "metadata": {
    "ExecuteTime": {
     "end_time": "2018-03-19T18:07:10.144804Z",
     "start_time": "2018-03-19T18:07:09.469805Z"
    }
   },
   "outputs": [
    {
     "name": "stderr",
     "output_type": "stream",
     "text": [
      "Usage: \n",
      "       PE [-version] [-threads <threads>] [-phred33|-phred64] [-trimlog <trimLogFile>] [-quiet] [-validatePairs] [-basein <inputBase> | <inputFile1> <inputFile2>] [-baseout <outputBase> | <outputFile1P> <outputFile1U> <outputFile2P> <outputFile2U>] <trimmer1>...\n",
      "   or: \n",
      "       SE [-version] [-threads <threads>] [-phred33|-phred64] [-trimlog <trimLogFile>] [-quiet] <inputFile> <outputFile> <trimmer1>...\n",
      "   or: \n",
      "       -version\n"
     ]
    }
   ],
   "source": [
    "%%bash\n",
    "java -jar ./../bin/Trimmomatic-0.36/trimmomatic-0.36.jar"
   ]
  },
  {
   "cell_type": "code",
   "execution_count": 6,
   "metadata": {
    "ExecuteTime": {
     "end_time": "2018-03-19T18:07:10.166675Z",
     "start_time": "2018-03-19T18:07:10.149131Z"
    },
    "collapsed": true
   },
   "outputs": [],
   "source": [
    "%%bash\n",
    "#rm ../bin/Trimmomatic-0.36/adapters/all_adapters.fa\n",
    "#for f in ../bin/Trimmomatic-0.36/adapters/*.fa; do (cat $f; echo '') >> ../bin/Trimmomatic-0.36/adapters/all_adapters.fa; done\n",
    "#cat ../bin/Trimmomatic-0.36/adapters/all_adapters.fa"
   ]
  },
  {
   "cell_type": "code",
   "execution_count": 7,
   "metadata": {
    "ExecuteTime": {
     "end_time": "2018-03-19T18:07:10.200777Z",
     "start_time": "2018-03-19T18:07:10.169130Z"
    },
    "collapsed": true
   },
   "outputs": [],
   "source": [
    "%%bash\n",
    "#mkdir ../data/read_trimming"
   ]
  },
  {
   "cell_type": "code",
   "execution_count": 8,
   "metadata": {
    "ExecuteTime": {
     "end_time": "2018-03-19T18:07:10.256609Z",
     "start_time": "2018-03-19T18:07:10.205486Z"
    }
   },
   "outputs": [
    {
     "data": {
      "text/html": [
       "<div>\n",
       "<style scoped>\n",
       "    .dataframe tbody tr th:only-of-type {\n",
       "        vertical-align: middle;\n",
       "    }\n",
       "\n",
       "    .dataframe tbody tr th {\n",
       "        vertical-align: top;\n",
       "    }\n",
       "\n",
       "    .dataframe thead th {\n",
       "        text-align: right;\n",
       "    }\n",
       "</style>\n",
       "<table border=\"1\" class=\"dataframe\">\n",
       "  <thead>\n",
       "    <tr style=\"text-align: right;\">\n",
       "      <th></th>\n",
       "      <th>Output</th>\n",
       "      <th>Order</th>\n",
       "      <th>OrderType</th>\n",
       "      <th>Lane</th>\n",
       "      <th>SampleName</th>\n",
       "      <th>LibraryID</th>\n",
       "      <th>IndexSequence1</th>\n",
       "      <th>IndexSequence2</th>\n",
       "      <th>Read</th>\n",
       "      <th>Reference</th>\n",
       "      <th>Lab</th>\n",
       "      <th>TotalReads</th>\n",
       "      <th>AlignPercent</th>\n",
       "      <th>Type</th>\n",
       "      <th>ReadLength</th>\n",
       "      <th>FlowcellPath</th>\n",
       "      <th>FilePath</th>\n",
       "    </tr>\n",
       "  </thead>\n",
       "  <tbody>\n",
       "    <tr>\n",
       "      <th>0</th>\n",
       "      <td>s_1_1_ACAGTG.fastq.gz</td>\n",
       "      <td>MOLNG-2243</td>\n",
       "      <td>DNA-Seq (1ug)</td>\n",
       "      <td>1</td>\n",
       "      <td>A_tesselata_16537</td>\n",
       "      <td>L32313</td>\n",
       "      <td>ACAGTG</td>\n",
       "      <td>NaN</td>\n",
       "      <td>1</td>\n",
       "      <td>None</td>\n",
       "      <td>Baumann Lab</td>\n",
       "      <td>122067869</td>\n",
       "      <td>0</td>\n",
       "      <td>Paired Reads</td>\n",
       "      <td>251</td>\n",
       "      <td>/n/analysis/Baumann/rrs/MOLNG-2243/H5JWTBCX2/</td>\n",
       "      <td>/n/analysis/Baumann/rrs/MOLNG-2243/H5JWTBCX2/s_1_1_ACAGTG.fastq.gz</td>\n",
       "    </tr>\n",
       "    <tr>\n",
       "      <th>1</th>\n",
       "      <td>s_1_2_ACAGTG.fastq.gz</td>\n",
       "      <td>MOLNG-2243</td>\n",
       "      <td>DNA-Seq (1ug)</td>\n",
       "      <td>1</td>\n",
       "      <td>A_tesselata_16537</td>\n",
       "      <td>L32313</td>\n",
       "      <td>ACAGTG</td>\n",
       "      <td>NaN</td>\n",
       "      <td>2</td>\n",
       "      <td>None</td>\n",
       "      <td>Baumann Lab</td>\n",
       "      <td>122067869</td>\n",
       "      <td>0</td>\n",
       "      <td>Paired Reads</td>\n",
       "      <td>251</td>\n",
       "      <td>/n/analysis/Baumann/rrs/MOLNG-2243/H5JWTBCX2/</td>\n",
       "      <td>/n/analysis/Baumann/rrs/MOLNG-2243/H5JWTBCX2/s_1_2_ACAGTG.fastq.gz</td>\n",
       "    </tr>\n",
       "    <tr>\n",
       "      <th>2</th>\n",
       "      <td>s_2_1_ACAGTG.fastq.gz</td>\n",
       "      <td>MOLNG-2243</td>\n",
       "      <td>DNA-Seq (1ug)</td>\n",
       "      <td>2</td>\n",
       "      <td>A_tesselata_16537</td>\n",
       "      <td>L32313</td>\n",
       "      <td>ACAGTG</td>\n",
       "      <td>NaN</td>\n",
       "      <td>1</td>\n",
       "      <td>None</td>\n",
       "      <td>Baumann Lab</td>\n",
       "      <td>125690450</td>\n",
       "      <td>0</td>\n",
       "      <td>Paired Reads</td>\n",
       "      <td>251</td>\n",
       "      <td>/n/analysis/Baumann/rrs/MOLNG-2243/H5JWTBCX2/</td>\n",
       "      <td>/n/analysis/Baumann/rrs/MOLNG-2243/H5JWTBCX2/s_2_1_ACAGTG.fastq.gz</td>\n",
       "    </tr>\n",
       "    <tr>\n",
       "      <th>3</th>\n",
       "      <td>s_2_2_ACAGTG.fastq.gz</td>\n",
       "      <td>MOLNG-2243</td>\n",
       "      <td>DNA-Seq (1ug)</td>\n",
       "      <td>2</td>\n",
       "      <td>A_tesselata_16537</td>\n",
       "      <td>L32313</td>\n",
       "      <td>ACAGTG</td>\n",
       "      <td>NaN</td>\n",
       "      <td>2</td>\n",
       "      <td>None</td>\n",
       "      <td>Baumann Lab</td>\n",
       "      <td>125690450</td>\n",
       "      <td>0</td>\n",
       "      <td>Paired Reads</td>\n",
       "      <td>251</td>\n",
       "      <td>/n/analysis/Baumann/rrs/MOLNG-2243/H5JWTBCX2/</td>\n",
       "      <td>/n/analysis/Baumann/rrs/MOLNG-2243/H5JWTBCX2/s_2_2_ACAGTG.fastq.gz</td>\n",
       "    </tr>\n",
       "  </tbody>\n",
       "</table>\n",
       "</div>"
      ],
      "text/plain": [
       "                  Output       Order      OrderType  Lane         SampleName  \\\n",
       "0  s_1_1_ACAGTG.fastq.gz  MOLNG-2243  DNA-Seq (1ug)  1     A_tesselata_16537   \n",
       "1  s_1_2_ACAGTG.fastq.gz  MOLNG-2243  DNA-Seq (1ug)  1     A_tesselata_16537   \n",
       "2  s_2_1_ACAGTG.fastq.gz  MOLNG-2243  DNA-Seq (1ug)  2     A_tesselata_16537   \n",
       "3  s_2_2_ACAGTG.fastq.gz  MOLNG-2243  DNA-Seq (1ug)  2     A_tesselata_16537   \n",
       "\n",
       "  LibraryID IndexSequence1  IndexSequence2  Read Reference          Lab  \\\n",
       "0  L32313    ACAGTG        NaN              1     None      Baumann Lab   \n",
       "1  L32313    ACAGTG        NaN              2     None      Baumann Lab   \n",
       "2  L32313    ACAGTG        NaN              1     None      Baumann Lab   \n",
       "3  L32313    ACAGTG        NaN              2     None      Baumann Lab   \n",
       "\n",
       "   TotalReads  AlignPercent          Type  ReadLength  \\\n",
       "0  122067869   0             Paired Reads  251          \n",
       "1  122067869   0             Paired Reads  251          \n",
       "2  125690450   0             Paired Reads  251          \n",
       "3  125690450   0             Paired Reads  251          \n",
       "\n",
       "                                    FlowcellPath  \\\n",
       "0  /n/analysis/Baumann/rrs/MOLNG-2243/H5JWTBCX2/   \n",
       "1  /n/analysis/Baumann/rrs/MOLNG-2243/H5JWTBCX2/   \n",
       "2  /n/analysis/Baumann/rrs/MOLNG-2243/H5JWTBCX2/   \n",
       "3  /n/analysis/Baumann/rrs/MOLNG-2243/H5JWTBCX2/   \n",
       "\n",
       "                                                             FilePath  \n",
       "0  /n/analysis/Baumann/rrs/MOLNG-2243/H5JWTBCX2/s_1_1_ACAGTG.fastq.gz  \n",
       "1  /n/analysis/Baumann/rrs/MOLNG-2243/H5JWTBCX2/s_1_2_ACAGTG.fastq.gz  \n",
       "2  /n/analysis/Baumann/rrs/MOLNG-2243/H5JWTBCX2/s_2_1_ACAGTG.fastq.gz  \n",
       "3  /n/analysis/Baumann/rrs/MOLNG-2243/H5JWTBCX2/s_2_2_ACAGTG.fastq.gz  "
      ]
     },
     "execution_count": 8,
     "metadata": {},
     "output_type": "execute_result"
    }
   ],
   "source": [
    "molng2243"
   ]
  },
  {
   "cell_type": "code",
   "execution_count": 9,
   "metadata": {
    "ExecuteTime": {
     "end_time": "2018-03-19T18:07:10.376440Z",
     "start_time": "2018-03-19T18:07:10.259326Z"
    }
   },
   "outputs": [
    {
     "data": {
      "text/html": [
       "<div>\n",
       "<style scoped>\n",
       "    .dataframe tbody tr th:only-of-type {\n",
       "        vertical-align: middle;\n",
       "    }\n",
       "\n",
       "    .dataframe tbody tr th {\n",
       "        vertical-align: top;\n",
       "    }\n",
       "\n",
       "    .dataframe thead th {\n",
       "        text-align: right;\n",
       "    }\n",
       "</style>\n",
       "<table border=\"1\" class=\"dataframe\">\n",
       "  <thead>\n",
       "    <tr style=\"text-align: right;\">\n",
       "      <th></th>\n",
       "      <th>read_1_Output</th>\n",
       "      <th>read_1_Order</th>\n",
       "      <th>read_1_OrderType</th>\n",
       "      <th>read_1_Lane</th>\n",
       "      <th>read_1_SampleName</th>\n",
       "      <th>read_1_LibraryID</th>\n",
       "      <th>read_1_IndexSequence1</th>\n",
       "      <th>read_1_IndexSequence2</th>\n",
       "      <th>read_1_Read</th>\n",
       "      <th>read_1_Reference</th>\n",
       "      <th>...</th>\n",
       "      <th>read_2_IndexSequence2</th>\n",
       "      <th>read_2_Read</th>\n",
       "      <th>read_2_Reference</th>\n",
       "      <th>read_2_Lab</th>\n",
       "      <th>read_2_TotalReads</th>\n",
       "      <th>read_2_AlignPercent</th>\n",
       "      <th>read_2_Type</th>\n",
       "      <th>read_2_ReadLength</th>\n",
       "      <th>read_2_FlowcellPath</th>\n",
       "      <th>read_2_FilePath</th>\n",
       "    </tr>\n",
       "  </thead>\n",
       "  <tbody>\n",
       "    <tr>\n",
       "      <th>0</th>\n",
       "      <td>s_1_1_ACAGTG.fastq.gz</td>\n",
       "      <td>MOLNG-2243</td>\n",
       "      <td>DNA-Seq (1ug)</td>\n",
       "      <td>1</td>\n",
       "      <td>A_tesselata_16537</td>\n",
       "      <td>L32313</td>\n",
       "      <td>ACAGTG</td>\n",
       "      <td>NaN</td>\n",
       "      <td>1</td>\n",
       "      <td>None</td>\n",
       "      <td>...</td>\n",
       "      <td>NaN</td>\n",
       "      <td>2</td>\n",
       "      <td>None</td>\n",
       "      <td>Baumann Lab</td>\n",
       "      <td>122067869</td>\n",
       "      <td>0</td>\n",
       "      <td>Paired Reads</td>\n",
       "      <td>251</td>\n",
       "      <td>/n/analysis/Baumann/rrs/MOLNG-2243/H5JWTBCX2/</td>\n",
       "      <td>/n/analysis/Baumann/rrs/MOLNG-2243/H5JWTBCX2/s_1_2_ACAGTG.fastq.gz</td>\n",
       "    </tr>\n",
       "    <tr>\n",
       "      <th>1</th>\n",
       "      <td>s_2_1_ACAGTG.fastq.gz</td>\n",
       "      <td>MOLNG-2243</td>\n",
       "      <td>DNA-Seq (1ug)</td>\n",
       "      <td>2</td>\n",
       "      <td>A_tesselata_16537</td>\n",
       "      <td>L32313</td>\n",
       "      <td>ACAGTG</td>\n",
       "      <td>NaN</td>\n",
       "      <td>1</td>\n",
       "      <td>None</td>\n",
       "      <td>...</td>\n",
       "      <td>NaN</td>\n",
       "      <td>2</td>\n",
       "      <td>None</td>\n",
       "      <td>Baumann Lab</td>\n",
       "      <td>125690450</td>\n",
       "      <td>0</td>\n",
       "      <td>Paired Reads</td>\n",
       "      <td>251</td>\n",
       "      <td>/n/analysis/Baumann/rrs/MOLNG-2243/H5JWTBCX2/</td>\n",
       "      <td>/n/analysis/Baumann/rrs/MOLNG-2243/H5JWTBCX2/s_2_2_ACAGTG.fastq.gz</td>\n",
       "    </tr>\n",
       "  </tbody>\n",
       "</table>\n",
       "<p>2 rows × 34 columns</p>\n",
       "</div>"
      ],
      "text/plain": [
       "           read_1_Output read_1_Order read_1_OrderType  read_1_Lane  \\\n",
       "0  s_1_1_ACAGTG.fastq.gz  MOLNG-2243   DNA-Seq (1ug)    1             \n",
       "1  s_2_1_ACAGTG.fastq.gz  MOLNG-2243   DNA-Seq (1ug)    2             \n",
       "\n",
       "   read_1_SampleName read_1_LibraryID read_1_IndexSequence1  \\\n",
       "0  A_tesselata_16537  L32313           ACAGTG                 \n",
       "1  A_tesselata_16537  L32313           ACAGTG                 \n",
       "\n",
       "   read_1_IndexSequence2  read_1_Read read_1_Reference  \\\n",
       "0 NaN                     1            None              \n",
       "1 NaN                     1            None              \n",
       "\n",
       "                                  ...                                  \\\n",
       "0                                 ...                                   \n",
       "1                                 ...                                   \n",
       "\n",
       "  read_2_IndexSequence2  read_2_Read  read_2_Reference   read_2_Lab  \\\n",
       "0 NaN                    2            None              Baumann Lab   \n",
       "1 NaN                    2            None              Baumann Lab   \n",
       "\n",
       "   read_2_TotalReads read_2_AlignPercent   read_2_Type read_2_ReadLength  \\\n",
       "0  122067869          0                   Paired Reads  251                \n",
       "1  125690450          0                   Paired Reads  251                \n",
       "\n",
       "                             read_2_FlowcellPath  \\\n",
       "0  /n/analysis/Baumann/rrs/MOLNG-2243/H5JWTBCX2/   \n",
       "1  /n/analysis/Baumann/rrs/MOLNG-2243/H5JWTBCX2/   \n",
       "\n",
       "                                                      read_2_FilePath  \n",
       "0  /n/analysis/Baumann/rrs/MOLNG-2243/H5JWTBCX2/s_1_2_ACAGTG.fastq.gz  \n",
       "1  /n/analysis/Baumann/rrs/MOLNG-2243/H5JWTBCX2/s_2_2_ACAGTG.fastq.gz  \n",
       "\n",
       "[2 rows x 34 columns]"
      ]
     },
     "execution_count": 9,
     "metadata": {},
     "output_type": "execute_result"
    }
   ],
   "source": [
    "read_1 = molng2243[molng2243['Read']==1].copy().reset_index(drop=True)\n",
    "read_1.columns = ['read_1_' + c for c in read_1.columns]\n",
    "read_2 = molng2243[molng2243['Read']==2].copy().reset_index(drop=True)\n",
    "read_2.columns = ['read_2_' + c for c in read_2.columns]\n",
    "longReads = pd.concat([read_1,read_2],1)\n",
    "longReads"
   ]
  },
  {
   "cell_type": "code",
   "execution_count": 10,
   "metadata": {
    "ExecuteTime": {
     "end_time": "2018-03-19T18:07:10.449002Z",
     "start_time": "2018-03-19T18:07:10.378967Z"
    }
   },
   "outputs": [
    {
     "data": {
      "text/html": [
       "<div>\n",
       "<style scoped>\n",
       "    .dataframe tbody tr th:only-of-type {\n",
       "        vertical-align: middle;\n",
       "    }\n",
       "\n",
       "    .dataframe tbody tr th {\n",
       "        vertical-align: top;\n",
       "    }\n",
       "\n",
       "    .dataframe thead th {\n",
       "        text-align: right;\n",
       "    }\n",
       "</style>\n",
       "<table border=\"1\" class=\"dataframe\">\n",
       "  <thead>\n",
       "    <tr style=\"text-align: right;\">\n",
       "      <th></th>\n",
       "      <th>read_1_Output</th>\n",
       "      <th>read_1_Order</th>\n",
       "      <th>read_1_OrderType</th>\n",
       "      <th>read_1_Lane</th>\n",
       "      <th>read_1_SampleName</th>\n",
       "      <th>read_1_LibraryID</th>\n",
       "      <th>read_1_IndexSequence1</th>\n",
       "      <th>read_1_IndexSequence2</th>\n",
       "      <th>read_1_Read</th>\n",
       "      <th>read_1_Reference</th>\n",
       "      <th>...</th>\n",
       "      <th>read_2_Type</th>\n",
       "      <th>read_2_ReadLength</th>\n",
       "      <th>read_2_FlowcellPath</th>\n",
       "      <th>read_2_FilePath</th>\n",
       "      <th>read_1_trim_paired_output</th>\n",
       "      <th>read_2_trim_paired_output</th>\n",
       "      <th>read_1_trim_unpaired_output</th>\n",
       "      <th>read_2_trim_unpaired_output</th>\n",
       "      <th>trim_log</th>\n",
       "      <th>trim_stdout</th>\n",
       "    </tr>\n",
       "  </thead>\n",
       "  <tbody>\n",
       "    <tr>\n",
       "      <th>0</th>\n",
       "      <td>s_1_1_ACAGTG.fastq.gz</td>\n",
       "      <td>MOLNG-2243</td>\n",
       "      <td>DNA-Seq (1ug)</td>\n",
       "      <td>1</td>\n",
       "      <td>A_tesselata_16537</td>\n",
       "      <td>L32313</td>\n",
       "      <td>ACAGTG</td>\n",
       "      <td>NaN</td>\n",
       "      <td>1</td>\n",
       "      <td>None</td>\n",
       "      <td>...</td>\n",
       "      <td>Paired Reads</td>\n",
       "      <td>251</td>\n",
       "      <td>/n/analysis/Baumann/rrs/MOLNG-2243/H5JWTBCX2/</td>\n",
       "      <td>/n/analysis/Baumann/rrs/MOLNG-2243/H5JWTBCX2/s_1_2_ACAGTG.fastq.gz</td>\n",
       "      <td>../data/read_trimming/s_1_1_ACAGTG.paired_trimmed.fastq.gz</td>\n",
       "      <td>../data/read_trimming/s_1_2_ACAGTG.paired_trimmed.fastq.gz</td>\n",
       "      <td>../data/read_trimming/s_1_1_ACAGTG.unpaired_trimmed.fastq.gz</td>\n",
       "      <td>../data/read_trimming/s_1_2_ACAGTG.unpaired_trimmed.fastq.gz</td>\n",
       "      <td>../data/read_trimming/lane_1_A_tesselata_16537.trimlog</td>\n",
       "      <td>../data/read_trimming/lane_1_A_tesselata_16537.stdout</td>\n",
       "    </tr>\n",
       "    <tr>\n",
       "      <th>1</th>\n",
       "      <td>s_2_1_ACAGTG.fastq.gz</td>\n",
       "      <td>MOLNG-2243</td>\n",
       "      <td>DNA-Seq (1ug)</td>\n",
       "      <td>2</td>\n",
       "      <td>A_tesselata_16537</td>\n",
       "      <td>L32313</td>\n",
       "      <td>ACAGTG</td>\n",
       "      <td>NaN</td>\n",
       "      <td>1</td>\n",
       "      <td>None</td>\n",
       "      <td>...</td>\n",
       "      <td>Paired Reads</td>\n",
       "      <td>251</td>\n",
       "      <td>/n/analysis/Baumann/rrs/MOLNG-2243/H5JWTBCX2/</td>\n",
       "      <td>/n/analysis/Baumann/rrs/MOLNG-2243/H5JWTBCX2/s_2_2_ACAGTG.fastq.gz</td>\n",
       "      <td>../data/read_trimming/s_2_1_ACAGTG.paired_trimmed.fastq.gz</td>\n",
       "      <td>../data/read_trimming/s_2_2_ACAGTG.paired_trimmed.fastq.gz</td>\n",
       "      <td>../data/read_trimming/s_2_1_ACAGTG.unpaired_trimmed.fastq.gz</td>\n",
       "      <td>../data/read_trimming/s_2_2_ACAGTG.unpaired_trimmed.fastq.gz</td>\n",
       "      <td>../data/read_trimming/lane_2_A_tesselata_16537.trimlog</td>\n",
       "      <td>../data/read_trimming/lane_2_A_tesselata_16537.stdout</td>\n",
       "    </tr>\n",
       "  </tbody>\n",
       "</table>\n",
       "<p>2 rows × 40 columns</p>\n",
       "</div>"
      ],
      "text/plain": [
       "           read_1_Output read_1_Order read_1_OrderType  read_1_Lane  \\\n",
       "0  s_1_1_ACAGTG.fastq.gz  MOLNG-2243   DNA-Seq (1ug)    1             \n",
       "1  s_2_1_ACAGTG.fastq.gz  MOLNG-2243   DNA-Seq (1ug)    2             \n",
       "\n",
       "   read_1_SampleName read_1_LibraryID read_1_IndexSequence1  \\\n",
       "0  A_tesselata_16537  L32313           ACAGTG                 \n",
       "1  A_tesselata_16537  L32313           ACAGTG                 \n",
       "\n",
       "   read_1_IndexSequence2  read_1_Read read_1_Reference  \\\n",
       "0 NaN                     1            None              \n",
       "1 NaN                     1            None              \n",
       "\n",
       "                           ...                             read_2_Type  \\\n",
       "0                          ...                            Paired Reads   \n",
       "1                          ...                            Paired Reads   \n",
       "\n",
       "   read_2_ReadLength                            read_2_FlowcellPath  \\\n",
       "0  251                /n/analysis/Baumann/rrs/MOLNG-2243/H5JWTBCX2/   \n",
       "1  251                /n/analysis/Baumann/rrs/MOLNG-2243/H5JWTBCX2/   \n",
       "\n",
       "                                                      read_2_FilePath  \\\n",
       "0  /n/analysis/Baumann/rrs/MOLNG-2243/H5JWTBCX2/s_1_2_ACAGTG.fastq.gz   \n",
       "1  /n/analysis/Baumann/rrs/MOLNG-2243/H5JWTBCX2/s_2_2_ACAGTG.fastq.gz   \n",
       "\n",
       "                                    read_1_trim_paired_output  \\\n",
       "0  ../data/read_trimming/s_1_1_ACAGTG.paired_trimmed.fastq.gz   \n",
       "1  ../data/read_trimming/s_2_1_ACAGTG.paired_trimmed.fastq.gz   \n",
       "\n",
       "                                    read_2_trim_paired_output  \\\n",
       "0  ../data/read_trimming/s_1_2_ACAGTG.paired_trimmed.fastq.gz   \n",
       "1  ../data/read_trimming/s_2_2_ACAGTG.paired_trimmed.fastq.gz   \n",
       "\n",
       "                                    read_1_trim_unpaired_output  \\\n",
       "0  ../data/read_trimming/s_1_1_ACAGTG.unpaired_trimmed.fastq.gz   \n",
       "1  ../data/read_trimming/s_2_1_ACAGTG.unpaired_trimmed.fastq.gz   \n",
       "\n",
       "                                    read_2_trim_unpaired_output  \\\n",
       "0  ../data/read_trimming/s_1_2_ACAGTG.unpaired_trimmed.fastq.gz   \n",
       "1  ../data/read_trimming/s_2_2_ACAGTG.unpaired_trimmed.fastq.gz   \n",
       "\n",
       "                                                 trim_log  \\\n",
       "0  ../data/read_trimming/lane_1_A_tesselata_16537.trimlog   \n",
       "1  ../data/read_trimming/lane_2_A_tesselata_16537.trimlog   \n",
       "\n",
       "                                             trim_stdout  \n",
       "0  ../data/read_trimming/lane_1_A_tesselata_16537.stdout  \n",
       "1  ../data/read_trimming/lane_2_A_tesselata_16537.stdout  \n",
       "\n",
       "[2 rows x 40 columns]"
      ]
     },
     "execution_count": 10,
     "metadata": {},
     "output_type": "execute_result"
    }
   ],
   "source": [
    "longReads['read_1_trim_paired_output'] = longReads['read_1_Output'].apply(lambda filename: '../data/read_trimming/' + filename.replace('.fastq.gz', '.paired_trimmed.fastq.gz'))\n",
    "longReads['read_2_trim_paired_output'] = longReads['read_2_Output'].apply(lambda filename: '../data/read_trimming/' + filename.replace('.fastq.gz', '.paired_trimmed.fastq.gz'))\n",
    "longReads['read_1_trim_unpaired_output'] = longReads['read_1_Output'].apply(lambda filename: '../data/read_trimming/' + filename.replace('.fastq.gz', '.unpaired_trimmed.fastq.gz'))\n",
    "longReads['read_2_trim_unpaired_output'] = longReads['read_2_Output'].apply(lambda filename: '../data/read_trimming/' + filename.replace('.fastq.gz', '.unpaired_trimmed.fastq.gz'))\n",
    "longReads['trim_log'] = longReads['read_1_Lane'].apply(lambda x: '../data/read_trimming/lane_{}_A_tesselata_16537.trimlog'.format(x))\n",
    "longReads['trim_stdout'] = longReads['read_1_Lane'].apply(lambda x: '../data/read_trimming/lane_{}_A_tesselata_16537.stdout'.format(x))\n",
    "\n",
    "longReads\n"
   ]
  },
  {
   "cell_type": "code",
   "execution_count": 11,
   "metadata": {
    "ExecuteTime": {
     "end_time": "2018-03-19T18:07:10.498771Z",
     "start_time": "2018-03-19T18:07:10.450716Z"
    }
   },
   "outputs": [
    {
     "data": {
      "text/html": [
       "<div>\n",
       "<style scoped>\n",
       "    .dataframe tbody tr th:only-of-type {\n",
       "        vertical-align: middle;\n",
       "    }\n",
       "\n",
       "    .dataframe tbody tr th {\n",
       "        vertical-align: top;\n",
       "    }\n",
       "\n",
       "    .dataframe thead th {\n",
       "        text-align: right;\n",
       "    }\n",
       "</style>\n",
       "<table border=\"1\" class=\"dataframe\">\n",
       "  <thead>\n",
       "    <tr style=\"text-align: right;\">\n",
       "      <th></th>\n",
       "      <th>read_1_Output</th>\n",
       "      <th>read_1_Order</th>\n",
       "      <th>read_1_OrderType</th>\n",
       "      <th>read_1_Lane</th>\n",
       "      <th>read_1_SampleName</th>\n",
       "      <th>read_1_LibraryID</th>\n",
       "      <th>read_1_IndexSequence1</th>\n",
       "      <th>read_1_IndexSequence2</th>\n",
       "      <th>read_1_Read</th>\n",
       "      <th>read_1_Reference</th>\n",
       "      <th>...</th>\n",
       "      <th>read_2_ReadLength</th>\n",
       "      <th>read_2_FlowcellPath</th>\n",
       "      <th>read_2_FilePath</th>\n",
       "      <th>read_1_trim_paired_output</th>\n",
       "      <th>read_2_trim_paired_output</th>\n",
       "      <th>read_1_trim_unpaired_output</th>\n",
       "      <th>read_2_trim_unpaired_output</th>\n",
       "      <th>trim_log</th>\n",
       "      <th>trim_stdout</th>\n",
       "      <th>trim_command</th>\n",
       "    </tr>\n",
       "  </thead>\n",
       "  <tbody>\n",
       "    <tr>\n",
       "      <th>0</th>\n",
       "      <td>s_1_1_ACAGTG.fastq.gz</td>\n",
       "      <td>MOLNG-2243</td>\n",
       "      <td>DNA-Seq (1ug)</td>\n",
       "      <td>1</td>\n",
       "      <td>A_tesselata_16537</td>\n",
       "      <td>L32313</td>\n",
       "      <td>ACAGTG</td>\n",
       "      <td>NaN</td>\n",
       "      <td>1</td>\n",
       "      <td>None</td>\n",
       "      <td>...</td>\n",
       "      <td>251</td>\n",
       "      <td>/n/analysis/Baumann/rrs/MOLNG-2243/H5JWTBCX2/</td>\n",
       "      <td>/n/analysis/Baumann/rrs/MOLNG-2243/H5JWTBCX2/s_1_2_ACAGTG.fastq.gz</td>\n",
       "      <td>../data/read_trimming/s_1_1_ACAGTG.paired_trimmed.fastq.gz</td>\n",
       "      <td>../data/read_trimming/s_1_2_ACAGTG.paired_trimmed.fastq.gz</td>\n",
       "      <td>../data/read_trimming/s_1_1_ACAGTG.unpaired_trimmed.fastq.gz</td>\n",
       "      <td>../data/read_trimming/s_1_2_ACAGTG.unpaired_trimmed.fastq.gz</td>\n",
       "      <td>../data/read_trimming/lane_1_A_tesselata_16537.trimlog</td>\n",
       "      <td>../data/read_trimming/lane_1_A_tesselata_16537.stdout</td>\n",
       "      <td>java -jar ../bin/Trimmomatic-0.36/trimmomatic-0.36.jar PE -phred33 -threads 8 -trimlog ../data/read_trimming/lane_1_A_tesselata_16537.trimlog /n/analysis/Baumann/rrs/MOLNG-2243/H5JWTBCX2/s_1_1_ACAGTG.fastq.gz /n/analysis/Baumann/rrs/MOLNG-2243/H5JWTBCX2/s_1_2_ACAGTG.fastq.gz ../data/read_trimming/s_1_1_ACAGTG.paired_trimmed.fastq.gz ../data/read_trimming/s_1_1_ACAGTG.unpaired_trimmed.fastq.gz ../data/read_trimming/s_1_2_ACAGTG.paired_trimmed.fastq.gz ../data/read_trimming/s_1_2_ACAGTG.unpaired_trimmed.fastq.gz ILLUMINACLIP:../bin/Trimmomatic-0.36/adapters/all_adapters.fa:2:30:10 LEADING:3 TRAILING:3 SLIDINGWINDOW:4:15 MINLEN:36 &amp;&gt; ../data/read_trimming/lane_1_A_tesselata_16537.stdout</td>\n",
       "    </tr>\n",
       "    <tr>\n",
       "      <th>1</th>\n",
       "      <td>s_2_1_ACAGTG.fastq.gz</td>\n",
       "      <td>MOLNG-2243</td>\n",
       "      <td>DNA-Seq (1ug)</td>\n",
       "      <td>2</td>\n",
       "      <td>A_tesselata_16537</td>\n",
       "      <td>L32313</td>\n",
       "      <td>ACAGTG</td>\n",
       "      <td>NaN</td>\n",
       "      <td>1</td>\n",
       "      <td>None</td>\n",
       "      <td>...</td>\n",
       "      <td>251</td>\n",
       "      <td>/n/analysis/Baumann/rrs/MOLNG-2243/H5JWTBCX2/</td>\n",
       "      <td>/n/analysis/Baumann/rrs/MOLNG-2243/H5JWTBCX2/s_2_2_ACAGTG.fastq.gz</td>\n",
       "      <td>../data/read_trimming/s_2_1_ACAGTG.paired_trimmed.fastq.gz</td>\n",
       "      <td>../data/read_trimming/s_2_2_ACAGTG.paired_trimmed.fastq.gz</td>\n",
       "      <td>../data/read_trimming/s_2_1_ACAGTG.unpaired_trimmed.fastq.gz</td>\n",
       "      <td>../data/read_trimming/s_2_2_ACAGTG.unpaired_trimmed.fastq.gz</td>\n",
       "      <td>../data/read_trimming/lane_2_A_tesselata_16537.trimlog</td>\n",
       "      <td>../data/read_trimming/lane_2_A_tesselata_16537.stdout</td>\n",
       "      <td>java -jar ../bin/Trimmomatic-0.36/trimmomatic-0.36.jar PE -phred33 -threads 8 -trimlog ../data/read_trimming/lane_2_A_tesselata_16537.trimlog /n/analysis/Baumann/rrs/MOLNG-2243/H5JWTBCX2/s_2_1_ACAGTG.fastq.gz /n/analysis/Baumann/rrs/MOLNG-2243/H5JWTBCX2/s_2_2_ACAGTG.fastq.gz ../data/read_trimming/s_2_1_ACAGTG.paired_trimmed.fastq.gz ../data/read_trimming/s_2_1_ACAGTG.unpaired_trimmed.fastq.gz ../data/read_trimming/s_2_2_ACAGTG.paired_trimmed.fastq.gz ../data/read_trimming/s_2_2_ACAGTG.unpaired_trimmed.fastq.gz ILLUMINACLIP:../bin/Trimmomatic-0.36/adapters/all_adapters.fa:2:30:10 LEADING:3 TRAILING:3 SLIDINGWINDOW:4:15 MINLEN:36 &amp;&gt; ../data/read_trimming/lane_2_A_tesselata_16537.stdout</td>\n",
       "    </tr>\n",
       "  </tbody>\n",
       "</table>\n",
       "<p>2 rows × 41 columns</p>\n",
       "</div>"
      ],
      "text/plain": [
       "           read_1_Output read_1_Order read_1_OrderType  read_1_Lane  \\\n",
       "0  s_1_1_ACAGTG.fastq.gz  MOLNG-2243   DNA-Seq (1ug)    1             \n",
       "1  s_2_1_ACAGTG.fastq.gz  MOLNG-2243   DNA-Seq (1ug)    2             \n",
       "\n",
       "   read_1_SampleName read_1_LibraryID read_1_IndexSequence1  \\\n",
       "0  A_tesselata_16537  L32313           ACAGTG                 \n",
       "1  A_tesselata_16537  L32313           ACAGTG                 \n",
       "\n",
       "   read_1_IndexSequence2  read_1_Read read_1_Reference  \\\n",
       "0 NaN                     1            None              \n",
       "1 NaN                     1            None              \n",
       "\n",
       "                                                                                                                                                                                                                                                                                                                                                           ...                                                                                                                                                                                                                                                                                                                                                           \\\n",
       "0                                                                                                                                                                                                                                                                                                                                                          ...                                                                                                                                                                                                                                                                                                                                                            \n",
       "1                                                                                                                                                                                                                                                                                                                                                          ...                                                                                                                                                                                                                                                                                                                                                            \n",
       "\n",
       "  read_2_ReadLength                            read_2_FlowcellPath  \\\n",
       "0  251               /n/analysis/Baumann/rrs/MOLNG-2243/H5JWTBCX2/   \n",
       "1  251               /n/analysis/Baumann/rrs/MOLNG-2243/H5JWTBCX2/   \n",
       "\n",
       "                                                      read_2_FilePath  \\\n",
       "0  /n/analysis/Baumann/rrs/MOLNG-2243/H5JWTBCX2/s_1_2_ACAGTG.fastq.gz   \n",
       "1  /n/analysis/Baumann/rrs/MOLNG-2243/H5JWTBCX2/s_2_2_ACAGTG.fastq.gz   \n",
       "\n",
       "                                    read_1_trim_paired_output  \\\n",
       "0  ../data/read_trimming/s_1_1_ACAGTG.paired_trimmed.fastq.gz   \n",
       "1  ../data/read_trimming/s_2_1_ACAGTG.paired_trimmed.fastq.gz   \n",
       "\n",
       "                                    read_2_trim_paired_output  \\\n",
       "0  ../data/read_trimming/s_1_2_ACAGTG.paired_trimmed.fastq.gz   \n",
       "1  ../data/read_trimming/s_2_2_ACAGTG.paired_trimmed.fastq.gz   \n",
       "\n",
       "                                    read_1_trim_unpaired_output  \\\n",
       "0  ../data/read_trimming/s_1_1_ACAGTG.unpaired_trimmed.fastq.gz   \n",
       "1  ../data/read_trimming/s_2_1_ACAGTG.unpaired_trimmed.fastq.gz   \n",
       "\n",
       "                                    read_2_trim_unpaired_output  \\\n",
       "0  ../data/read_trimming/s_1_2_ACAGTG.unpaired_trimmed.fastq.gz   \n",
       "1  ../data/read_trimming/s_2_2_ACAGTG.unpaired_trimmed.fastq.gz   \n",
       "\n",
       "                                                 trim_log  \\\n",
       "0  ../data/read_trimming/lane_1_A_tesselata_16537.trimlog   \n",
       "1  ../data/read_trimming/lane_2_A_tesselata_16537.trimlog   \n",
       "\n",
       "                                             trim_stdout  \\\n",
       "0  ../data/read_trimming/lane_1_A_tesselata_16537.stdout   \n",
       "1  ../data/read_trimming/lane_2_A_tesselata_16537.stdout   \n",
       "\n",
       "                                                                                                                                                                                                                                                                                                                                                                                                                                                                                                                                                                                                                                                                                                           trim_command  \n",
       "0  java -jar ../bin/Trimmomatic-0.36/trimmomatic-0.36.jar PE -phred33 -threads 8 -trimlog ../data/read_trimming/lane_1_A_tesselata_16537.trimlog /n/analysis/Baumann/rrs/MOLNG-2243/H5JWTBCX2/s_1_1_ACAGTG.fastq.gz /n/analysis/Baumann/rrs/MOLNG-2243/H5JWTBCX2/s_1_2_ACAGTG.fastq.gz ../data/read_trimming/s_1_1_ACAGTG.paired_trimmed.fastq.gz ../data/read_trimming/s_1_1_ACAGTG.unpaired_trimmed.fastq.gz ../data/read_trimming/s_1_2_ACAGTG.paired_trimmed.fastq.gz ../data/read_trimming/s_1_2_ACAGTG.unpaired_trimmed.fastq.gz ILLUMINACLIP:../bin/Trimmomatic-0.36/adapters/all_adapters.fa:2:30:10 LEADING:3 TRAILING:3 SLIDINGWINDOW:4:15 MINLEN:36 &> ../data/read_trimming/lane_1_A_tesselata_16537.stdout  \n",
       "1  java -jar ../bin/Trimmomatic-0.36/trimmomatic-0.36.jar PE -phred33 -threads 8 -trimlog ../data/read_trimming/lane_2_A_tesselata_16537.trimlog /n/analysis/Baumann/rrs/MOLNG-2243/H5JWTBCX2/s_2_1_ACAGTG.fastq.gz /n/analysis/Baumann/rrs/MOLNG-2243/H5JWTBCX2/s_2_2_ACAGTG.fastq.gz ../data/read_trimming/s_2_1_ACAGTG.paired_trimmed.fastq.gz ../data/read_trimming/s_2_1_ACAGTG.unpaired_trimmed.fastq.gz ../data/read_trimming/s_2_2_ACAGTG.paired_trimmed.fastq.gz ../data/read_trimming/s_2_2_ACAGTG.unpaired_trimmed.fastq.gz ILLUMINACLIP:../bin/Trimmomatic-0.36/adapters/all_adapters.fa:2:30:10 LEADING:3 TRAILING:3 SLIDINGWINDOW:4:15 MINLEN:36 &> ../data/read_trimming/lane_2_A_tesselata_16537.stdout  \n",
       "\n",
       "[2 rows x 41 columns]"
      ]
     },
     "execution_count": 11,
     "metadata": {},
     "output_type": "execute_result"
    }
   ],
   "source": [
    "longReads['trim_command'] = longReads.apply(lambda row: ''.join(\n",
    "    [\n",
    "        \"java -jar ../bin/Trimmomatic-0.36/trimmomatic-0.36.jar PE -phred33 -threads 8 -trimlog {} \".format(row['trim_log']),\n",
    "        \"{} {} \".format(row['read_1_FilePath'], row['read_2_FilePath']),\n",
    "        \"{} {} \".format(row['read_1_trim_paired_output'], row['read_1_trim_unpaired_output']),\n",
    "        \"{} {} \".format(row['read_2_trim_paired_output'], row['read_2_trim_unpaired_output']),\n",
    "        \"ILLUMINACLIP:../bin/Trimmomatic-0.36/adapters/all_adapters.fa:2:30:10 LEADING:3 TRAILING:3 SLIDINGWINDOW:4:15 MINLEN:36 \",\n",
    "        \"&> {}\".format(row['trim_stdout'])\n",
    "    ]\n",
    "                                                               ),\n",
    "                                           axis =1)\n",
    "longReads"
   ]
  },
  {
   "cell_type": "code",
   "execution_count": 12,
   "metadata": {
    "ExecuteTime": {
     "end_time": "2018-03-19T18:07:10.522417Z",
     "start_time": "2018-03-19T18:07:10.500437Z"
    },
    "collapsed": true
   },
   "outputs": [],
   "source": [
    "with open('../bin/trim_commands.txt', 'w') as fw:\n",
    "    fw.write('\\n'.join(longReads['trim_command'].tolist()) + '\\n')"
   ]
  },
  {
   "cell_type": "code",
   "execution_count": 13,
   "metadata": {
    "ExecuteTime": {
     "end_time": "2018-03-19T18:07:10.548698Z",
     "start_time": "2018-03-19T18:07:10.524198Z"
    }
   },
   "outputs": [
    {
     "name": "stdout",
     "output_type": "stream",
     "text": [
      "java -jar ../bin/Trimmomatic-0.36/trimmomatic-0.36.jar PE -phred33 -threads 8 -trimlog ../data/read_trimming/lane_1_A_tesselata_16537.trimlog /n/analysis/Baumann/rrs/MOLNG-2243/H5JWTBCX2/s_1_1_ACAGTG.fastq.gz /n/analysis/Baumann/rrs/MOLNG-2243/H5JWTBCX2/s_1_2_ACAGTG.fastq.gz ../data/read_trimming/s_1_1_ACAGTG.paired_trimmed.fastq.gz ../data/read_trimming/s_1_1_ACAGTG.unpaired_trimmed.fastq.gz ../data/read_trimming/s_1_2_ACAGTG.paired_trimmed.fastq.gz ../data/read_trimming/s_1_2_ACAGTG.unpaired_trimmed.fastq.gz ILLUMINACLIP:../bin/Trimmomatic-0.36/adapters/all_adapters.fa:2:30:10 LEADING:3 TRAILING:3 SLIDINGWINDOW:4:15 MINLEN:36 &> ../data/read_trimming/lane_1_A_tesselata_16537.stdout\n",
      "java -jar ../bin/Trimmomatic-0.36/trimmomatic-0.36.jar PE -phred33 -threads 8 -trimlog ../data/read_trimming/lane_2_A_tesselata_16537.trimlog /n/analysis/Baumann/rrs/MOLNG-2243/H5JWTBCX2/s_2_1_ACAGTG.fastq.gz /n/analysis/Baumann/rrs/MOLNG-2243/H5JWTBCX2/s_2_2_ACAGTG.fastq.gz ../data/read_trimming/s_2_1_ACAGTG.paired_trimmed.fastq.gz ../data/read_trimming/s_2_1_ACAGTG.unpaired_trimmed.fastq.gz ../data/read_trimming/s_2_2_ACAGTG.paired_trimmed.fastq.gz ../data/read_trimming/s_2_2_ACAGTG.unpaired_trimmed.fastq.gz ILLUMINACLIP:../bin/Trimmomatic-0.36/adapters/all_adapters.fa:2:30:10 LEADING:3 TRAILING:3 SLIDINGWINDOW:4:15 MINLEN:36 &> ../data/read_trimming/lane_2_A_tesselata_16537.stdout\n"
     ]
    }
   ],
   "source": [
    "%%bash\n",
    "cat ../bin/trim_commands.txt\n",
    "#nohup parallel --no-notice -j 16 :::: ../bin/trim_commands.txt &> ../bin/trim_commands.out &"
   ]
  },
  {
   "cell_type": "markdown",
   "metadata": {
    "collapsed": true
   },
   "source": [
    "## Kmer-Genie"
   ]
  },
  {
   "cell_type": "code",
   "execution_count": 14,
   "metadata": {
    "ExecuteTime": {
     "end_time": "2018-03-19T18:07:10.568037Z",
     "start_time": "2018-03-19T18:07:10.550756Z"
    }
   },
   "outputs": [],
   "source": [
    "%%bash\n",
    "# cd ../bin/\n",
    "# wget http://kmergenie.bx.psu.edu/kmergenie-1.7044.tar.gz\n",
    "# tar zxvf kmergenie-1.7044.tar.gz\n",
    "# cd kmergenie-1.7044\n",
    "# make"
   ]
  },
  {
   "cell_type": "code",
   "execution_count": 15,
   "metadata": {
    "ExecuteTime": {
     "end_time": "2018-03-19T18:07:10.590168Z",
     "start_time": "2018-03-19T18:07:10.570493Z"
    },
    "collapsed": true
   },
   "outputs": [],
   "source": [
    "%%bash\n",
    "cd ../data/\n",
    "#mkdir kmergenie"
   ]
  },
  {
   "cell_type": "code",
   "execution_count": 16,
   "metadata": {
    "ExecuteTime": {
     "end_time": "2018-03-19T18:07:11.764613Z",
     "start_time": "2018-03-19T18:07:10.592247Z"
    }
   },
   "outputs": [
    {
     "name": "stderr",
     "output_type": "stream",
     "text": [
      "KmerGenie 1.7044\n",
      "\n",
      "Usage:\n",
      "    kmergenie <read_file> [options]\n",
      "\n",
      "Options:\n",
      "    --diploid    use the diploid model (default: haploid model)\n",
      "    --one-pass   skip the second pass to estimate k at 2 bp resolution (default: two passes)\n",
      "    -k <value>   largest k-mer size to consider (default: 121)\n",
      "    -l <value>   smallest k-mer size to consider (default: 15)\n",
      "    -s <value>   interval between consecutive kmer sizes (default: 10)\n",
      "    -e <value>   k-mer sampling value (default: auto-detected to use ~200 MB memory/thread)\n",
      "    -t <value>   number of threads (default: number of cores minus one)\n",
      "    -o <prefix>  prefix of the output files (default: histograms)\n",
      "    --debug      developer output of R scripts\n",
      "    --orig-hist  legacy histogram estimation method (slower, less accurate)\n"
     ]
    }
   ],
   "source": [
    "%%bash\n",
    "./../bin/kmergenie-1.7044/kmergenie"
   ]
  },
  {
   "cell_type": "code",
   "execution_count": 17,
   "metadata": {
    "ExecuteTime": {
     "end_time": "2018-03-19T18:07:11.792798Z",
     "start_time": "2018-03-19T18:07:11.768331Z"
    },
    "collapsed": true
   },
   "outputs": [],
   "source": [
    "with open('../data/kmergenie/kmergenie_readlist.txt', 'w') as fw:\n",
    "    fw.write('\\n'.join(longReads['read_1_trim_paired_output'].tolist() + longReads['read_2_trim_paired_output'].tolist()) + '\\n')"
   ]
  },
  {
   "cell_type": "code",
   "execution_count": 18,
   "metadata": {
    "ExecuteTime": {
     "end_time": "2018-03-19T18:07:11.812944Z",
     "start_time": "2018-03-19T18:07:11.795668Z"
    },
    "collapsed": true
   },
   "outputs": [],
   "source": [
    "%%bash\n",
    "#nohup ./../bin/kmergenie-1.7044/kmergenie ../data/kmergenie/kmergenie_readlist.txt --diploid -k 201 -t 30 -o ../data/kmergenie/A_tesselata_16537_KmerGenie_ &> ../data/kmergenie/A_tesselata_16537_KmerGenie.out &"
   ]
  },
  {
   "cell_type": "code",
   "execution_count": null,
   "metadata": {
    "collapsed": true
   },
   "outputs": [],
   "source": []
  },
  {
   "cell_type": "code",
   "execution_count": null,
   "metadata": {
    "collapsed": true
   },
   "outputs": [],
   "source": []
  },
  {
   "cell_type": "code",
   "execution_count": null,
   "metadata": {
    "collapsed": true
   },
   "outputs": [],
   "source": []
  },
  {
   "cell_type": "markdown",
   "metadata": {
    "ExecuteTime": {
     "end_time": "2018-02-27T22:27:04.299080Z",
     "start_time": "2018-02-27T22:27:04.295739Z"
    }
   },
   "source": [
    "## Trimmed Meraculous Run"
   ]
  },
  {
   "cell_type": "code",
   "execution_count": 19,
   "metadata": {
    "ExecuteTime": {
     "end_time": "2018-03-19T18:07:11.849255Z",
     "start_time": "2018-03-19T18:07:11.815925Z"
    }
   },
   "outputs": [
    {
     "name": "stdout",
     "output_type": "stream",
     "text": [
      "###################################\n",
      "#\n",
      "#  Meraculous params file\n",
      "#\n",
      "###################################\n",
      "\n",
      "\n",
      "#######################################\n",
      "#\n",
      "# Basic parameters\n",
      "#\n",
      "########################################\n",
      "\n",
      "\n",
      "\n",
      "# Describe the libraries ( one line per library )\n",
      "# lib_seq [ wildcard ][ prefix ][ insAvg ][ insSdev ][ avgReadLen ][ hasInnieArtifact ][ isRevComped ][ useForContigging ][ onoSetId ][ useForGapClosing ][ 5pWiggleRoom ][3pWiggleRoom]\n",
      "#\n",
      "\n",
      "lib_seq\t/n/projects/dut/a_tess/meraculous_assembly/data/read_trimming/s_*_1_*.paired_trimmed.fastq.gz,/n/projects/dut/a_tess/meraculous_assembly/data/read_trimming/s_*_2_*.paired_trimmed.fastq.gz  FRA  500  100   251 0 0\t  1 1 1  0 0\n",
      "\n",
      "genome_size   3.15\n",
      "\n",
      "diploid_mode\t0\n",
      "\n",
      "mer_size 127\n",
      "\n",
      "min_depth_cutoff\t3\n",
      "\n",
      "num_prefix_blocks 1\n",
      "\n",
      "\n",
      "#################################################\n",
      "#\n",
      "# Advanced parameters\n",
      "#\n",
      "#################################################\n",
      "\n",
      "no_read_validation 0\n",
      "\n",
      "use_cluster 0\n",
      "\n",
      "local_num_procs       30\n",
      "\n",
      "local_max_retries\t\t  1\n",
      "\n"
     ]
    }
   ],
   "source": [
    "%%bash\n",
    "cat ../data/meraculous.config\n",
    "# nohup run_meraculous.sh -c ../data/meraculous.config &> ../data/run_merc_nohup.out &"
   ]
  },
  {
   "cell_type": "code",
   "execution_count": 20,
   "metadata": {
    "ExecuteTime": {
     "end_time": "2018-03-19T18:07:50.952939Z",
     "start_time": "2018-03-19T18:07:11.852255Z"
    },
    "collapsed": true
   },
   "outputs": [],
   "source": [
    "refinedRunFa = fa.Fasta_file('../data/run_2018-03-13_19h02m23s/meraculous_final_results/final.scaffolds.fa')"
   ]
  },
  {
   "cell_type": "code",
   "execution_count": 21,
   "metadata": {
    "ExecuteTime": {
     "end_time": "2018-03-19T18:07:51.720683Z",
     "start_time": "2018-03-19T18:07:50.955891Z"
    }
   },
   "outputs": [
    {
     "name": "stdout",
     "output_type": "stream",
     "text": [
      "max_scaffold 440709\n",
      "min_scaffold 1000\n",
      "mean_scaffold 22854.3052393\n",
      "median_scaffold 14266.0\n",
      "N50 40764\n",
      "N90 11525\n",
      "scaffolds_greater_than_10kb 83244\n",
      "scaffolds_greater_than_100kb 2788\n",
      "scaffolds_greater_than_1Mb 0\n",
      "scaffolds_greater_than_10Mb 0\n",
      "scaffolds_greater_than_100Mb 0\n",
      "perc_genome_covered_by_scaffolds_greater_than_10kb 91.96927012783028\n",
      "perc_genome_covered_by_scaffolds_greater_than_100kb 11.692853084614233\n",
      "perc_genome_covered_by_scaffolds_greater_than_1mb 0.0\n",
      "number of scaffolds 136660\n",
      "total bases 3123269354\n"
     ]
    }
   ],
   "source": [
    "refinedRunFa.get_stats()"
   ]
  }
 ],
 "metadata": {
  "kernelspec": {
   "display_name": "Python [default]",
   "language": "python",
   "name": "python3"
  },
  "language_info": {
   "codemirror_mode": {
    "name": "ipython",
    "version": 3
   },
   "file_extension": ".py",
   "mimetype": "text/x-python",
   "name": "python",
   "nbconvert_exporter": "python",
   "pygments_lexer": "ipython3",
   "version": "3.6.1"
  },
  "toc": {
   "nav_menu": {},
   "number_sections": true,
   "sideBar": true,
   "skip_h1_title": false,
   "toc_cell": false,
   "toc_position": {},
   "toc_section_display": "block",
   "toc_window_display": true
  }
 },
 "nbformat": 4,
 "nbformat_minor": 2
}
